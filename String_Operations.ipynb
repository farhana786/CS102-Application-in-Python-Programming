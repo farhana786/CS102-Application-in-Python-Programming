{
 "cells": [
  {
   "cell_type": "code",
   "execution_count": 1,
   "id": "083c5a9a",
   "metadata": {},
   "outputs": [
    {
     "name": "stdout",
     "output_type": "stream",
     "text": [
      "Python\n"
     ]
    }
   ],
   "source": [
    "text='Python'\n",
    "print(text)"
   ]
  },
  {
   "cell_type": "code",
   "execution_count": 2,
   "id": "1fb8ec68",
   "metadata": {},
   "outputs": [
    {
     "name": "stdout",
     "output_type": "stream",
     "text": [
      "Hello World!\n"
     ]
    }
   ],
   "source": [
    "text=\"Hello World!\"\n",
    "print(text)"
   ]
  },
  {
   "cell_type": "code",
   "execution_count": 3,
   "id": "90ecd70c",
   "metadata": {},
   "outputs": [
    {
     "name": "stdout",
     "output_type": "stream",
     "text": [
      "Enter string: Aman\n",
      "Aman\n"
     ]
    }
   ],
   "source": [
    "txt=input(\"Enter string: \")\n",
    "print(txt)"
   ]
  },
  {
   "cell_type": "code",
   "execution_count": 27,
   "id": "d216ba98",
   "metadata": {},
   "outputs": [
    {
     "name": "stdout",
     "output_type": "stream",
     "text": [
      "Concatenated string is: Hello % World\n",
      "Concatenated string is:  HelloWorld\n",
      " Hello $ World\n",
      "Format method:  World Hello Welcome\n"
     ]
    }
   ],
   "source": [
    "#String Concatenation\n",
    "#1.Using + operator\n",
    "str1=\"Hello\"\n",
    "str2=\"World\"\n",
    "str3=str1+\" % \"+str2\n",
    "print(\"Concatenated string is: \"+ str3)\n",
    "#2. Using join() method\n",
    "res=\"\".join([str1,str2])\n",
    "print(\"Concatenated string is: \",res)\n",
    "#3. Using % operator\n",
    "print(\" %s $ %s\" % (str1,str2))# the % operator combine the strings that are stored in str1 and str2 respectively. The %s denotes string format specifier.\n",
    "#4. Using format() method\n",
    "str3=\"{} {} {}\".format(str2,str1,\"Welcome\")\n",
    "print(\"Format method: \",str3)"
   ]
  },
  {
   "cell_type": "code",
   "execution_count": 31,
   "id": "d3e08d78",
   "metadata": {},
   "outputs": [
    {
     "name": "stdout",
     "output_type": "stream",
     "text": [
      "My name is Aman and age is 17. My percentage is 90.89\n"
     ]
    }
   ],
   "source": [
    "#4. Using format() method\n",
    "name=\"Aman\"\n",
    "age=17\n",
    "per=90.89\n",
    "text=\"My name is {1} and age is {2}. My percentage is {0}\".format(per,name,age)\n",
    "print(text)"
   ]
  },
  {
   "cell_type": "code",
   "execution_count": 33,
   "id": "a2eaab13",
   "metadata": {},
   "outputs": [
    {
     "name": "stdout",
     "output_type": "stream",
     "text": [
      "dlroW olleH\n"
     ]
    }
   ],
   "source": [
    "#String Reverse\n",
    "text=\"Hello World\" [::-1]\n",
    "print(text)"
   ]
  },
  {
   "cell_type": "code",
   "execution_count": 34,
   "id": "6ee0e088",
   "metadata": {},
   "outputs": [
    {
     "name": "stdout",
     "output_type": "stream",
     "text": [
      "Enter string to be reversed: Hello World!\n",
      "Reversed string is: !dlroW olleH\n"
     ]
    }
   ],
   "source": [
    "#user defined function - string reverse\n",
    "def reverse_str(str1):\n",
    "    return str1[::-1]\n",
    "\n",
    "st=input(\"Enter string to be reversed: \")\n",
    "rev=reverse_str(st)\n",
    "print(\"Reversed string is: \"+rev)"
   ]
  },
  {
   "cell_type": "code",
   "execution_count": 42,
   "id": "cf28541a",
   "metadata": {},
   "outputs": [
    {
     "name": "stdout",
     "output_type": "stream",
     "text": [
      "False\n",
      "True\n"
     ]
    }
   ],
   "source": [
    "#String Compare\n",
    "#using relational operator\n",
    "#print(\"Hello\"<\"hello\")\n",
    "#print(\"Hello\">\"hello\")\n",
    "#print(\"Hello\"==\"hello\")\n",
    "#print(\"Hello\"!=\"hello\")\n",
    "#print(\"Hello\"<=\"hello\")\n",
    "#print(\"Hello\">=\"hello\")\n",
    "#Using 'is' and 'is not'\n",
    "print(\"Hello\" is \"hello\")\n",
    "print(\"Hello\" is not \"hello\")"
   ]
  },
  {
   "cell_type": "code",
   "execution_count": 50,
   "id": "b8b89db6",
   "metadata": {},
   "outputs": [
    {
     "name": "stdout",
     "output_type": "stream",
     "text": [
      "Enter string1: 12python\n",
      "Enter string2: python12\n",
      "Strings are equal!\n"
     ]
    }
   ],
   "source": [
    "#User defined function\n",
    "def compare_str(str1,str2):\n",
    "    count1=0\n",
    "    count2=0\n",
    "    for i in range(len(str1)):\n",
    "        if str1[i]>=\"0\" and str1[i]<=\"9\":\n",
    "            count1 += 1\n",
    "    for i in range(len(str2)):\n",
    "        if str2[i]>=\"0\" and str2[i]<=\"9\":\n",
    "            count2 += 1\n",
    "    return count1 == count2\n",
    "\n",
    "s1=input(\"Enter string1: \")\n",
    "s2=input(\"Enter string2: \")\n",
    "comp=compare_str(s1,s2)\n",
    "if comp:\n",
    "    print(\"Strings are equal!\")\n",
    "else:\n",
    "    print(\"Strings are not equal!\")"
   ]
  },
  {
   "cell_type": "code",
   "execution_count": 54,
   "id": "0d0921d3",
   "metadata": {},
   "outputs": [
    {
     "name": "stdout",
     "output_type": "stream",
     "text": [
      "Enter any string to check palindrome: MADAM\n",
      "MADAM is palindrome!\n"
     ]
    }
   ],
   "source": [
    "#String Palindrome - user defined function\n",
    "#1. Find reverse string\n",
    "#2. Compare if reverse and original are same or not\n",
    "def isPalindrome(str1):\n",
    "    return str1==\"\".join(reversed(str1)) #[::-1]\n",
    "    \n",
    "s=input(\"Enter any string to check palindrome: \")\n",
    "ans=isPalindrome(s)\n",
    "if ans:\n",
    "    print(s+\" is palindrome!\")\n",
    "else:\n",
    "    print(s+\" is not palindrome!\")"
   ]
  },
  {
   "cell_type": "code",
   "execution_count": 60,
   "id": "22e5e093",
   "metadata": {},
   "outputs": [
    {
     "name": "stdout",
     "output_type": "stream",
     "text": [
      "Enter any string to check palindrome: Madam\n",
      "Not palindrome!\n"
     ]
    }
   ],
   "source": [
    "string=input(\"Enter any string to check palindrome: \")\n",
    "flag=0\n",
    "neg_index=-1\n",
    "for current_ele in string:\n",
    "    if current_ele!=string[neg_index]:\n",
    "        flag=1\n",
    "        break\n",
    "    neg_index=neg_index-1    \n",
    "\n",
    "if flag==0:\n",
    "    print(\"Palindrome!\")\n",
    "else:\n",
    "    print(\"Not palindrome!\")"
   ]
  },
  {
   "cell_type": "code",
   "execution_count": 68,
   "id": "aa5908be",
   "metadata": {},
   "outputs": [
    {
     "name": "stdout",
     "output_type": "stream",
     "text": [
      "  HELLO WORLD   \n",
      "  hello world   \n",
      "  hELLO wORLD   \n",
      "Hello World\n",
      "  heello World   \n"
     ]
    }
   ],
   "source": [
    "#Case change - Modify string\n",
    "txt=\"  Hello World   \"\n",
    "print(txt.upper())\n",
    "print(txt.lower())\n",
    "print(txt.swapcase())\n",
    "#Remove whitespace\n",
    "print(txt.strip())\n",
    "#Replace \n",
    "print(txt.replace(\"H\",\"he\"))"
   ]
  },
  {
   "cell_type": "code",
   "execution_count": 76,
   "id": "fbe02433",
   "metadata": {},
   "outputs": [
    {
     "name": "stdout",
     "output_type": "stream",
     "text": [
      "Original string is: Hello,World,Python, Programming, Session\n",
      "1  element of list is:  Hello\n",
      "2  element of list is:  World\n",
      "3  element of list is:  Python\n",
      "4  element of list is:   Programming\n",
      "5  element of list is:   Session\n"
     ]
    }
   ],
   "source": [
    "#Split string\n",
    "text=\"Hello,World,Python, Programming, Session\"\n",
    "print(\"Original string is: \"+text)\n",
    "split_text=text.split(\",\")\n",
    "for i in range(len(split_text)):\n",
    "    print(i+1,\" element of list is: \",split_text[i])"
   ]
  },
  {
   "cell_type": "code",
   "execution_count": null,
   "id": "4377512a",
   "metadata": {},
   "outputs": [],
   "source": []
  }
 ],
 "metadata": {
  "kernelspec": {
   "display_name": "Python 3",
   "language": "python",
   "name": "python3"
  },
  "language_info": {
   "codemirror_mode": {
    "name": "ipython",
    "version": 3
   },
   "file_extension": ".py",
   "mimetype": "text/x-python",
   "name": "python",
   "nbconvert_exporter": "python",
   "pygments_lexer": "ipython3",
   "version": "3.7.0"
  }
 },
 "nbformat": 4,
 "nbformat_minor": 5
}
