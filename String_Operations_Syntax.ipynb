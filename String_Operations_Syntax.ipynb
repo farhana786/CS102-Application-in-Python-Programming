{
 "cells": [
  {
   "cell_type": "code",
   "execution_count": 6,
   "id": "636fc98a",
   "metadata": {},
   "outputs": [
    {
     "name": "stdout",
     "output_type": "stream",
     "text": [
      "Python Programming !!!\n",
      "Welcome to the practical...\n",
      "        bsbvh\n",
      "        bdsjhsd\n"
     ]
    }
   ],
   "source": [
    "text='''Python Programming !!!\n",
    "Welcome to the practical...\n",
    "        bsbvh\n",
    "        bdsjhsd'''\n",
    "print(text)"
   ]
  },
  {
   "cell_type": "code",
   "execution_count": 2,
   "id": "baa42026",
   "metadata": {},
   "outputs": [
    {
     "name": "stdout",
     "output_type": "stream",
     "text": [
      "Python\n"
     ]
    }
   ],
   "source": [
    "text=\"Python\"\n",
    "print(text)"
   ]
  },
  {
   "cell_type": "code",
   "execution_count": 4,
   "id": "b9b5170f",
   "metadata": {},
   "outputs": [
    {
     "name": "stdout",
     "output_type": "stream",
     "text": [
      "Enter text: Aman\n",
      "Aman\n"
     ]
    }
   ],
   "source": [
    "text=input(\"Enter text: \")\n",
    "print(text)"
   ]
  },
  {
   "cell_type": "code",
   "execution_count": 21,
   "id": "37ee334e",
   "metadata": {},
   "outputs": [
    {
     "name": "stdout",
     "output_type": "stream",
     "text": [
      "Hello $ World!\n",
      "HelloWorld!\n",
      "Hello World!\n",
      "Hello World!\n"
     ]
    }
   ],
   "source": [
    "#String Concatenation\n",
    "#1. Using + operator\n",
    "str1=\"Hello\"\n",
    "str2=\"World!\"\n",
    "str3=str1+\" $ \"+str2\n",
    "print(str3)\n",
    "#2.Using join() method\n",
    "str4=\"\".join([str1,str2])\n",
    "print(str4)\n",
    "#3.Using % operator\n",
    "print(\"%s %s\" % (str1,str2)) # % operator combine the strings stored in str1 and str2.The value in both the variable is passed to the string format specifier %s and display concatenated string \"Hello World!\"\n",
    "\n",
    "#Using format() method\n",
    "#str.format()\n",
    "str5=\"{} {}\".format(str1,str2)\n",
    "print(str5)"
   ]
  },
  {
   "cell_type": "code",
   "execution_count": 26,
   "id": "420f1621",
   "metadata": {},
   "outputs": [
    {
     "name": "stdout",
     "output_type": "stream",
     "text": [
      "Enter name: Amar\n",
      "Enter age: 18\n",
      "Enter percentage: 78\n",
      "My name is Amar. My age is 18 and percentage is 78.0\n"
     ]
    }
   ],
   "source": [
    "name=input(\"Enter name: \")\n",
    "age=int(input(\"Enter age: \"))\n",
    "per=float(input(\"Enter percentage: \"))\n",
    "text=\"My name is {1}. My age is {2} and percentage is {0}\"\n",
    "print(text.format(per,name,age))"
   ]
  },
  {
   "cell_type": "code",
   "execution_count": 28,
   "id": "29aee395",
   "metadata": {},
   "outputs": [
    {
     "name": "stdout",
     "output_type": "stream",
     "text": [
      "!gnimmargorP\n"
     ]
    }
   ],
   "source": [
    "#String Reverse\n",
    "txt1=\"Programming!\"  [::-1]\n",
    "print(txt1)"
   ]
  },
  {
   "cell_type": "code",
   "execution_count": 29,
   "id": "c1529bf1",
   "metadata": {},
   "outputs": [
    {
     "name": "stdout",
     "output_type": "stream",
     "text": [
      "Enter string to be reversed: Hello World!\n",
      "Reversed string is:  !dlroW olleH\n"
     ]
    }
   ],
   "source": [
    "#String Reverse using function\n",
    "def reverse_str(rev):\n",
    "    return rev[::-1]\n",
    "str1=input(\"Enter string to be reversed: \")\n",
    "result=reverse_str(str1)\n",
    "print(\"Reversed string is: \",result)"
   ]
  },
  {
   "cell_type": "code",
   "execution_count": 30,
   "id": "55b56547",
   "metadata": {},
   "outputs": [
    {
     "name": "stdout",
     "output_type": "stream",
     "text": [
      "True\n",
      "False\n",
      "False\n",
      "True\n"
     ]
    }
   ],
   "source": [
    "#String Comparision\n",
    "#Using Relational Operators\n",
    "print(\"Hello\"<\"hello\")\n",
    "print(\"Hello\">\"hello\")\n",
    "print(\"Hello\"==\"hello\")\n",
    "print(\"Hello\"!=\"hello\")"
   ]
  },
  {
   "cell_type": "code",
   "execution_count": 33,
   "id": "af4c4ac6",
   "metadata": {},
   "outputs": [
    {
     "name": "stdout",
     "output_type": "stream",
     "text": [
      "True\n",
      "False\n"
     ]
    }
   ],
   "source": [
    "#Using is and is not\n",
    "print(\"Hello\"is not\"hello\")\n",
    "print(\"Hello\"is\"hello\")"
   ]
  },
  {
   "cell_type": "code",
   "execution_count": 43,
   "id": "4eb59d37",
   "metadata": {},
   "outputs": [
    {
     "name": "stdout",
     "output_type": "stream",
     "text": [
      "Enter string1: 123\n",
      "Enter string2: 123\n",
      "Is 123 equals 123 ?  True\n"
     ]
    }
   ],
   "source": [
    "#user defined function\n",
    "def compare_strings(str1,str2):\n",
    "    count1=0\n",
    "    count2=0\n",
    "    for i in range(len(str1)):\n",
    "        if(str1[i]>=\"0\" and str1[i]<=\"9\"):\n",
    "            count1+=1\n",
    "    for i in range(len(str2)):\n",
    "        if(str2[i]>=\"0\" and str2[i]<=\"9\"):\n",
    "            count2+=1\n",
    "    \n",
    "    return count1 == count2\n",
    "\n",
    "s1=input(\"Enter string1: \")\n",
    "s2=input(\"Enter string2: \")\n",
    "result=compare_strings(s1,s2)\n",
    "print(\"Is \"+s1+\" equals \"+s2+\" ? \",result)"
   ]
  },
  {
   "cell_type": "code",
   "execution_count": 46,
   "id": "806cedc5",
   "metadata": {},
   "outputs": [
    {
     "name": "stdout",
     "output_type": "stream",
     "text": [
      "Enter string to check palindrome: AMAN\n",
      "String is not palindrome!\n"
     ]
    }
   ],
   "source": [
    "#String Palindrome \n",
    "#1. Find the reverse of string\n",
    "#2. Check if reverse and original are same or not\n",
    "def isPalindrome(s):\n",
    "    return s==s[::-1]\n",
    "str1=input(\"Enter string to check palindrome: \")\n",
    "ans=isPalindrome(str1)\n",
    "if ans:\n",
    "    print(\"String is palindrome!\")\n",
    "else:\n",
    "    print(\"String is not palindrome!\")"
   ]
  },
  {
   "cell_type": "code",
   "execution_count": 50,
   "id": "c1c6cdc5",
   "metadata": {},
   "outputs": [
    {
     "name": "stdout",
     "output_type": "stream",
     "text": [
      "hello world!\n"
     ]
    }
   ],
   "source": [
    "#Case change - Modify string\n",
    "print(\"Hello World!\".lower())\n",
    "print(\"Hello World!\".upper())"
   ]
  },
  {
   "cell_type": "code",
   "execution_count": 51,
   "id": "b51adf09",
   "metadata": {},
   "outputs": [
    {
     "name": "stdout",
     "output_type": "stream",
     "text": [
      "hELLO wORLD!\n"
     ]
    }
   ],
   "source": [
    "#Swapcase\n",
    "print(\"Hello World!\".swapcase())"
   ]
  },
  {
   "cell_type": "code",
   "execution_count": 52,
   "id": "046d648e",
   "metadata": {},
   "outputs": [
    {
     "name": "stdout",
     "output_type": "stream",
     "text": [
      "Jello World!\n"
     ]
    }
   ],
   "source": [
    "#Replace\n",
    "print(\"Hello World!\".replace(\"H\",\"J\"))"
   ]
  },
  {
   "cell_type": "code",
   "execution_count": 64,
   "id": "89a189ad",
   "metadata": {},
   "outputs": [
    {
     "name": "stdout",
     "output_type": "stream",
     "text": [
      "Original string is:  Hello, World!,Python,Programming,Practical,Session!!!\n",
      "1 element of Split string is:  Hello\n",
      "2 element of Split string is:   World!\n",
      "3 element of Split string is:  Python\n",
      "4 element of Split string is:  Programming\n",
      "5 element of Split string is:  Practical\n",
      "6 element of Split string is:  Session!!!\n"
     ]
    }
   ],
   "source": [
    "#Split String\n",
    "text=\"Hello, World!,Python,Programming,Practical,Session!!!\"\n",
    "print(\"Original string is: \",text)\n",
    "t1=text.split(\",\")\n",
    "for index in range(len(t1)):\n",
    "    print(index+1,\"element of Split string is: \",t1[index])"
   ]
  },
  {
   "cell_type": "code",
   "execution_count": null,
   "id": "bf3c9289",
   "metadata": {},
   "outputs": [],
   "source": []
  }
 ],
 "metadata": {
  "kernelspec": {
   "display_name": "Python 3",
   "language": "python",
   "name": "python3"
  },
  "language_info": {
   "codemirror_mode": {
    "name": "ipython",
    "version": 3
   },
   "file_extension": ".py",
   "mimetype": "text/x-python",
   "name": "python",
   "nbconvert_exporter": "python",
   "pygments_lexer": "ipython3",
   "version": "3.7.0"
  }
 },
 "nbformat": 4,
 "nbformat_minor": 5
}
